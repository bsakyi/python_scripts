{
 "cells": [
  {
   "cell_type": "code",
   "execution_count": null,
   "id": "ad841966",
   "metadata": {},
   "outputs": [],
   "source": []
  },
  {
   "cell_type": "code",
   "execution_count": null,
   "id": "7e837ff3",
   "metadata": {},
   "outputs": [],
   "source": [
    ".read_csv('path')\n",
    ".read_excel('path')"
   ]
  },
  {
   "cell_type": "code",
   "execution_count": null,
   "id": "fbe2712a",
   "metadata": {},
   "outputs": [],
   "source": [
    "df.dropduplicates"
   ]
  },
  {
   "cell_type": "code",
   "execution_count": null,
   "id": "9ffe6945",
   "metadata": {},
   "outputs": [],
   "source": [
    "df.drop(columns=\"column name\")"
   ]
  },
  {
   "cell_type": "code",
   "execution_count": null,
   "id": "d24dcf2d",
   "metadata": {},
   "outputs": [],
   "source": [
    "#clear unwanted strings from the left of strings in a column .lstrip\n",
    "df[\"column name\"]= df[\"column name\"].str.lstrip(\"string to get rid off\")"
   ]
  },
  {
   "cell_type": "code",
   "execution_count": null,
   "id": "bc008f9a",
   "metadata": {},
   "outputs": [],
   "source": [
    "#clear unwanted strings from the all sides of strings in a column .strip\n",
    "df[\"column name\"]= df[\"column name\"].str.strip(\"string(s) to get rid off\")"
   ]
  },
  {
   "cell_type": "code",
   "execution_count": null,
   "id": "b1dbddcd",
   "metadata": {},
   "outputs": [],
   "source": [
    "# replace string, using regex to exclude alpahbets and numbers, replacing with an empty string\n",
    "df[\"column name\"]=df[\"column name\"].str.replace('[^a-zA-Z0-9]', ' ')"
   ]
  },
  {
   "cell_type": "code",
   "execution_count": null,
   "id": "987f8443",
   "metadata": {},
   "outputs": [],
   "source": [
    "#using lambda function to change phone number to string. take the value of x and convert to a string\n",
    "df[\"column name\"]= df[\"column name\"].apply(lambda x: str(x))"
   ]
  },
  {
   "cell_type": "code",
   "execution_count": null,
   "id": "4282ea8f",
   "metadata": {},
   "outputs": [],
   "source": [
    "# using lambda and slicing to format phone number from 111222444 to 111-222-4444\n",
    "df[\"column name\"] = df[\"column name\"].apply(lambda x: x[0:3] + '-' + x[3:6] + '-' + x[6:10])"
   ]
  },
  {
   "cell_type": "code",
   "execution_count": null,
   "id": "993e7db0",
   "metadata": {},
   "outputs": [],
   "source": [
    "#split columns. split columns on the first 2 commas(,) and create extra columns for the reultant strings(expand=True)\n",
    "df[\"column name\"]= df[\"column name\"].str.split(',',2, expand=True)"
   ]
  },
  {
   "cell_type": "code",
   "execution_count": null,
   "id": "7ef33b39",
   "metadata": {},
   "outputs": [],
   "source": [
    "#Creating 3 new columns for the resultant strings \n",
    "df[\"new column1\", \"new column12\", \"new column3\"]= df[\"column name\"].str.split(',',2, expand=True)"
   ]
  },
  {
   "cell_type": "code",
   "execution_count": null,
   "id": "a31bf070",
   "metadata": {},
   "outputs": [],
   "source": []
  },
  {
   "cell_type": "code",
   "execution_count": null,
   "id": "bd1d0732",
   "metadata": {},
   "outputs": [],
   "source": []
  },
  {
   "cell_type": "code",
   "execution_count": null,
   "id": "b6373174",
   "metadata": {},
   "outputs": [],
   "source": []
  }
 ],
 "metadata": {
  "kernelspec": {
   "display_name": "Python 3 (ipykernel)",
   "language": "python",
   "name": "python3"
  },
  "language_info": {
   "codemirror_mode": {
    "name": "ipython",
    "version": 3
   },
   "file_extension": ".py",
   "mimetype": "text/x-python",
   "name": "python",
   "nbconvert_exporter": "python",
   "pygments_lexer": "ipython3",
   "version": "3.11.5"
  }
 },
 "nbformat": 4,
 "nbformat_minor": 5
}
