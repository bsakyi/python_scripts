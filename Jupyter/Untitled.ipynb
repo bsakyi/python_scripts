{
 "cells": [
  {
   "cell_type": "code",
   "execution_count": 3,
   "id": "dcc05d09",
   "metadata": {},
   "outputs": [],
   "source": [
    "import pandas as pd"
   ]
  },
  {
   "cell_type": "code",
   "execution_count": 4,
   "id": "90abfc9f",
   "metadata": {},
   "outputs": [],
   "source": [
    "df = pd.read_csv(\"sales_data.csv\")"
   ]
  },
  {
   "cell_type": "code",
   "execution_count": 5,
   "id": "c9fad597",
   "metadata": {},
   "outputs": [
    {
     "data": {
      "text/html": [
       "<div>\n",
       "<style scoped>\n",
       "    .dataframe tbody tr th:only-of-type {\n",
       "        vertical-align: middle;\n",
       "    }\n",
       "\n",
       "    .dataframe tbody tr th {\n",
       "        vertical-align: top;\n",
       "    }\n",
       "\n",
       "    .dataframe thead th {\n",
       "        text-align: right;\n",
       "    }\n",
       "</style>\n",
       "<table border=\"1\" class=\"dataframe\">\n",
       "  <thead>\n",
       "    <tr style=\"text-align: right;\">\n",
       "      <th></th>\n",
       "      <th>Order ID</th>\n",
       "      <th>Product</th>\n",
       "      <th>Quantity Ordered</th>\n",
       "      <th>Price Each</th>\n",
       "      <th>Order Date</th>\n",
       "      <th>Purchase Address</th>\n",
       "    </tr>\n",
       "  </thead>\n",
       "  <tbody>\n",
       "    <tr>\n",
       "      <th>0</th>\n",
       "      <td>294049</td>\n",
       "      <td>Lightning Charging Cable</td>\n",
       "      <td>1</td>\n",
       "      <td>14.95</td>\n",
       "      <td>12/22/19 19:16</td>\n",
       "      <td>939 Odomankuma St, Kumasi, AS 40001</td>\n",
       "    </tr>\n",
       "    <tr>\n",
       "      <th>1</th>\n",
       "      <td>294050</td>\n",
       "      <td>Wired Headphones</td>\n",
       "      <td>1</td>\n",
       "      <td>11.99</td>\n",
       "      <td>12/30/19 18:15</td>\n",
       "      <td>116 Kwaku Boateng St, Sunyani, BA 10001</td>\n",
       "    </tr>\n",
       "    <tr>\n",
       "      <th>2</th>\n",
       "      <td>294051</td>\n",
       "      <td>USB-C Charging Cable</td>\n",
       "      <td>2</td>\n",
       "      <td>11.95</td>\n",
       "      <td>12/25/19 16:17</td>\n",
       "      <td>924 1st St, Kumasi, AS 40001</td>\n",
       "    </tr>\n",
       "    <tr>\n",
       "      <th>3</th>\n",
       "      <td>294052</td>\n",
       "      <td>Wired Headphones</td>\n",
       "      <td>1</td>\n",
       "      <td>11.99</td>\n",
       "      <td>12/24/19 13:15</td>\n",
       "      <td>148 12th St, Wa, UE 48101</td>\n",
       "    </tr>\n",
       "    <tr>\n",
       "      <th>4</th>\n",
       "      <td>294053</td>\n",
       "      <td>27in FHD Monitor</td>\n",
       "      <td>1</td>\n",
       "      <td>149.99</td>\n",
       "      <td>12/06/19 21:21</td>\n",
       "      <td>172 Nii Armah St, Ho, VR 90001</td>\n",
       "    </tr>\n",
       "  </tbody>\n",
       "</table>\n",
       "</div>"
      ],
      "text/plain": [
       "  Order ID                   Product Quantity Ordered Price Each  \\\n",
       "0   294049  Lightning Charging Cable                1      14.95   \n",
       "1   294050          Wired Headphones                1      11.99   \n",
       "2   294051      USB-C Charging Cable                2      11.95   \n",
       "3   294052          Wired Headphones                1      11.99   \n",
       "4   294053          27in FHD Monitor                1     149.99   \n",
       "\n",
       "       Order Date                         Purchase Address  \n",
       "0  12/22/19 19:16      939 Odomankuma St, Kumasi, AS 40001  \n",
       "1  12/30/19 18:15  116 Kwaku Boateng St, Sunyani, BA 10001  \n",
       "2  12/25/19 16:17             924 1st St, Kumasi, AS 40001  \n",
       "3  12/24/19 13:15                148 12th St, Wa, UE 48101  \n",
       "4  12/06/19 21:21           172 Nii Armah St, Ho, VR 90001  "
      ]
     },
     "execution_count": 5,
     "metadata": {},
     "output_type": "execute_result"
    }
   ],
   "source": [
    "df.head()"
   ]
  },
  {
   "cell_type": "code",
   "execution_count": 6,
   "id": "29eae7b2",
   "metadata": {},
   "outputs": [
    {
     "name": "stdout",
     "output_type": "stream",
     "text": [
      "<class 'pandas.core.frame.DataFrame'>\n",
      "RangeIndex: 185563 entries, 0 to 185562\n",
      "Data columns (total 6 columns):\n",
      " #   Column            Non-Null Count   Dtype \n",
      "---  ------            --------------   ----- \n",
      " 0   Order ID          185078 non-null  object\n",
      " 1   Product           185078 non-null  object\n",
      " 2   Quantity Ordered  185078 non-null  object\n",
      " 3   Price Each        185078 non-null  object\n",
      " 4   Order Date        185078 non-null  object\n",
      " 5   Purchase Address  185078 non-null  object\n",
      "dtypes: object(6)\n",
      "memory usage: 8.5+ MB\n"
     ]
    }
   ],
   "source": [
    "df.info()"
   ]
  },
  {
   "cell_type": "code",
   "execution_count": 7,
   "id": "dd6861a4",
   "metadata": {},
   "outputs": [
    {
     "name": "stdout",
     "output_type": "stream",
     "text": [
      "rows:185563  columns:6\n"
     ]
    }
   ],
   "source": [
    "rows, columns = df.shape\n",
    "print(f\"rows:{rows}  columns:{columns}\")"
   ]
  },
  {
   "cell_type": "code",
   "execution_count": 8,
   "id": "a2fa611f",
   "metadata": {},
   "outputs": [
    {
     "data": {
      "text/html": [
       "<div>\n",
       "<style scoped>\n",
       "    .dataframe tbody tr th:only-of-type {\n",
       "        vertical-align: middle;\n",
       "    }\n",
       "\n",
       "    .dataframe tbody tr th {\n",
       "        vertical-align: top;\n",
       "    }\n",
       "\n",
       "    .dataframe thead th {\n",
       "        text-align: right;\n",
       "    }\n",
       "</style>\n",
       "<table border=\"1\" class=\"dataframe\">\n",
       "  <thead>\n",
       "    <tr style=\"text-align: right;\">\n",
       "      <th></th>\n",
       "      <th>Order ID</th>\n",
       "      <th>Product</th>\n",
       "      <th>Quantity Ordered</th>\n",
       "      <th>Price Each</th>\n",
       "      <th>Order Date</th>\n",
       "      <th>Purchase Address</th>\n",
       "    </tr>\n",
       "  </thead>\n",
       "  <tbody>\n",
       "    <tr>\n",
       "      <th>count</th>\n",
       "      <td>185078</td>\n",
       "      <td>185078</td>\n",
       "      <td>185078</td>\n",
       "      <td>185078</td>\n",
       "      <td>185078</td>\n",
       "      <td>185078</td>\n",
       "    </tr>\n",
       "    <tr>\n",
       "      <th>unique</th>\n",
       "      <td>177210</td>\n",
       "      <td>20</td>\n",
       "      <td>11</td>\n",
       "      <td>24</td>\n",
       "      <td>141845</td>\n",
       "      <td>140081</td>\n",
       "    </tr>\n",
       "    <tr>\n",
       "      <th>top</th>\n",
       "      <td>Order ID</td>\n",
       "      <td>USB-C Charging Cable</td>\n",
       "      <td>1</td>\n",
       "      <td>11.95</td>\n",
       "      <td>Order Date</td>\n",
       "      <td>Purchase Address</td>\n",
       "    </tr>\n",
       "    <tr>\n",
       "      <th>freq</th>\n",
       "      <td>346</td>\n",
       "      <td>21867</td>\n",
       "      <td>167426</td>\n",
       "      <td>21867</td>\n",
       "      <td>346</td>\n",
       "      <td>346</td>\n",
       "    </tr>\n",
       "  </tbody>\n",
       "</table>\n",
       "</div>"
      ],
      "text/plain": [
       "        Order ID               Product Quantity Ordered Price Each  \\\n",
       "count     185078                185078           185078     185078   \n",
       "unique    177210                    20               11         24   \n",
       "top     Order ID  USB-C Charging Cable                1      11.95   \n",
       "freq         346                 21867           167426      21867   \n",
       "\n",
       "        Order Date  Purchase Address  \n",
       "count       185078            185078  \n",
       "unique      141845            140081  \n",
       "top     Order Date  Purchase Address  \n",
       "freq           346               346  "
      ]
     },
     "execution_count": 8,
     "metadata": {},
     "output_type": "execute_result"
    }
   ],
   "source": [
    "df.describe()"
   ]
  },
  {
   "cell_type": "code",
   "execution_count": 9,
   "id": "2dcffb39",
   "metadata": {},
   "outputs": [
    {
     "data": {
      "text/plain": [
       "Order ID            485\n",
       "Product             485\n",
       "Quantity Ordered    485\n",
       "Price Each          485\n",
       "Order Date          485\n",
       "Purchase Address    485\n",
       "dtype: int64"
      ]
     },
     "execution_count": 9,
     "metadata": {},
     "output_type": "execute_result"
    }
   ],
   "source": [
    "# number of nulls\n",
    "df.isnull().sum()"
   ]
  },
  {
   "cell_type": "code",
   "execution_count": 10,
   "id": "2a868866",
   "metadata": {},
   "outputs": [],
   "source": [
    "# drop null values\n",
    "df.dropna(how = \"all\", inplace=True)"
   ]
  },
  {
   "cell_type": "code",
   "execution_count": 11,
   "id": "894eadc0",
   "metadata": {},
   "outputs": [
    {
     "name": "stdout",
     "output_type": "stream",
     "text": [
      "<class 'pandas.core.frame.DataFrame'>\n",
      "Index: 185078 entries, 0 to 185562\n",
      "Data columns (total 6 columns):\n",
      " #   Column            Non-Null Count   Dtype \n",
      "---  ------            --------------   ----- \n",
      " 0   Order ID          185078 non-null  object\n",
      " 1   Product           185078 non-null  object\n",
      " 2   Quantity Ordered  185078 non-null  object\n",
      " 3   Price Each        185078 non-null  object\n",
      " 4   Order Date        185078 non-null  object\n",
      " 5   Purchase Address  185078 non-null  object\n",
      "dtypes: object(6)\n",
      "memory usage: 9.9+ MB\n"
     ]
    }
   ],
   "source": [
    "df.info()"
   ]
  },
  {
   "cell_type": "code",
   "execution_count": null,
   "id": "2c3acdd3",
   "metadata": {},
   "outputs": [],
   "source": []
  },
  {
   "cell_type": "code",
   "execution_count": 12,
   "id": "810b286c",
   "metadata": {},
   "outputs": [],
   "source": [
    "# the numeric column quantity ordered contains a value which is a string of alphabets \n",
    "# df[\"Quantity Ordered\"] = pd.to_numeric(df[\"Quantity Ordered\"])"
   ]
  },
  {
   "cell_type": "code",
   "execution_count": 13,
   "id": "d7ffbe1a",
   "metadata": {},
   "outputs": [
    {
     "data": {
      "text/plain": [
       "array(['1', '2', '4', '3', 'Quantity Ordered', '5', '6', '7', '8', '10',\n",
       "       '9'], dtype=object)"
      ]
     },
     "execution_count": 13,
     "metadata": {},
     "output_type": "execute_result"
    }
   ],
   "source": [
    "df[\"Quantity Ordered\"].unique()"
   ]
  },
  {
   "cell_type": "code",
   "execution_count": 14,
   "id": "a8fd752c",
   "metadata": {},
   "outputs": [],
   "source": [
    "df = df[df[\"Quantity Ordered\"] != \"Quantity Ordered\"]"
   ]
  },
  {
   "cell_type": "code",
   "execution_count": 15,
   "id": "08c266ab",
   "metadata": {},
   "outputs": [
    {
     "data": {
      "text/plain": [
       "array(['1', '2', '4', '3', '5', '6', '7', '8', '10', '9'], dtype=object)"
      ]
     },
     "execution_count": 15,
     "metadata": {},
     "output_type": "execute_result"
    }
   ],
   "source": [
    "df[\"Quantity Ordered\"].unique()"
   ]
  },
  {
   "cell_type": "code",
   "execution_count": 16,
   "id": "eb5906f7",
   "metadata": {},
   "outputs": [],
   "source": [
    "df[\"Quantity Ordered\"] = pd.to_numeric(df[\"Quantity Ordered\"])"
   ]
  },
  {
   "cell_type": "code",
   "execution_count": 17,
   "id": "18b5297e",
   "metadata": {},
   "outputs": [
    {
     "name": "stdout",
     "output_type": "stream",
     "text": [
      "<class 'pandas.core.frame.DataFrame'>\n",
      "Index: 184732 entries, 0 to 185562\n",
      "Data columns (total 6 columns):\n",
      " #   Column            Non-Null Count   Dtype \n",
      "---  ------            --------------   ----- \n",
      " 0   Order ID          184732 non-null  object\n",
      " 1   Product           184732 non-null  object\n",
      " 2   Quantity Ordered  184732 non-null  int64 \n",
      " 3   Price Each        184732 non-null  object\n",
      " 4   Order Date        184732 non-null  object\n",
      " 5   Purchase Address  184732 non-null  object\n",
      "dtypes: int64(1), object(5)\n",
      "memory usage: 9.9+ MB\n"
     ]
    }
   ],
   "source": [
    "df.info()"
   ]
  },
  {
   "cell_type": "code",
   "execution_count": 18,
   "id": "e4317b8b",
   "metadata": {},
   "outputs": [
    {
     "data": {
      "text/html": [
       "<div>\n",
       "<style scoped>\n",
       "    .dataframe tbody tr th:only-of-type {\n",
       "        vertical-align: middle;\n",
       "    }\n",
       "\n",
       "    .dataframe tbody tr th {\n",
       "        vertical-align: top;\n",
       "    }\n",
       "\n",
       "    .dataframe thead th {\n",
       "        text-align: right;\n",
       "    }\n",
       "</style>\n",
       "<table border=\"1\" class=\"dataframe\">\n",
       "  <thead>\n",
       "    <tr style=\"text-align: right;\">\n",
       "      <th></th>\n",
       "      <th>Quantity Ordered</th>\n",
       "    </tr>\n",
       "  </thead>\n",
       "  <tbody>\n",
       "    <tr>\n",
       "      <th>count</th>\n",
       "      <td>184732.000000</td>\n",
       "    </tr>\n",
       "    <tr>\n",
       "      <th>mean</th>\n",
       "      <td>1.124813</td>\n",
       "    </tr>\n",
       "    <tr>\n",
       "      <th>std</th>\n",
       "      <td>0.443598</td>\n",
       "    </tr>\n",
       "    <tr>\n",
       "      <th>min</th>\n",
       "      <td>1.000000</td>\n",
       "    </tr>\n",
       "    <tr>\n",
       "      <th>25%</th>\n",
       "      <td>1.000000</td>\n",
       "    </tr>\n",
       "    <tr>\n",
       "      <th>50%</th>\n",
       "      <td>1.000000</td>\n",
       "    </tr>\n",
       "    <tr>\n",
       "      <th>75%</th>\n",
       "      <td>1.000000</td>\n",
       "    </tr>\n",
       "    <tr>\n",
       "      <th>max</th>\n",
       "      <td>10.000000</td>\n",
       "    </tr>\n",
       "  </tbody>\n",
       "</table>\n",
       "</div>"
      ],
      "text/plain": [
       "       Quantity Ordered\n",
       "count     184732.000000\n",
       "mean           1.124813\n",
       "std            0.443598\n",
       "min            1.000000\n",
       "25%            1.000000\n",
       "50%            1.000000\n",
       "75%            1.000000\n",
       "max           10.000000"
      ]
     },
     "execution_count": 18,
     "metadata": {},
     "output_type": "execute_result"
    }
   ],
   "source": [
    "df.describe()"
   ]
  },
  {
   "cell_type": "code",
   "execution_count": 19,
   "id": "b9b97775",
   "metadata": {},
   "outputs": [
    {
     "data": {
      "text/plain": [
       "1.1248132429681919"
      ]
     },
     "execution_count": 19,
     "metadata": {},
     "output_type": "execute_result"
    }
   ],
   "source": [
    "df[\"Quantity Ordered\"].mean()"
   ]
  },
  {
   "cell_type": "code",
   "execution_count": 20,
   "id": "c2a3cf98",
   "metadata": {},
   "outputs": [
    {
     "data": {
      "text/plain": [
       "1"
      ]
     },
     "execution_count": 20,
     "metadata": {},
     "output_type": "execute_result"
    }
   ],
   "source": [
    "df[\"Quantity Ordered\"].min()"
   ]
  },
  {
   "cell_type": "code",
   "execution_count": 21,
   "id": "2302b0ab",
   "metadata": {},
   "outputs": [
    {
     "data": {
      "text/plain": [
       "10"
      ]
     },
     "execution_count": 21,
     "metadata": {},
     "output_type": "execute_result"
    }
   ],
   "source": [
    "df[\"Quantity Ordered\"].max()"
   ]
  },
  {
   "cell_type": "code",
   "execution_count": 22,
   "id": "d1ddf2b6",
   "metadata": {},
   "outputs": [
    {
     "data": {
      "text/plain": [
       "0.44359778840488195"
      ]
     },
     "execution_count": 22,
     "metadata": {},
     "output_type": "execute_result"
    }
   ],
   "source": [
    "df[\"Quantity Ordered\"].std()"
   ]
  },
  {
   "cell_type": "code",
   "execution_count": 23,
   "id": "a5e39697",
   "metadata": {},
   "outputs": [
    {
     "data": {
      "text/plain": [
       "184732"
      ]
     },
     "execution_count": 23,
     "metadata": {},
     "output_type": "execute_result"
    }
   ],
   "source": [
    "df[\"Quantity Ordered\"].count()"
   ]
  },
  {
   "cell_type": "code",
   "execution_count": 24,
   "id": "ea8cc915",
   "metadata": {},
   "outputs": [],
   "source": [
    "df[\"Price Each\"] = pd.to_numeric(df[\"Price Each\"])"
   ]
  },
  {
   "cell_type": "code",
   "execution_count": 25,
   "id": "068ddf1b",
   "metadata": {},
   "outputs": [],
   "source": [
    "df[\"Purchase Amount\"] = df[\"Quantity Ordered\"] * df[\"Price Each\"] "
   ]
  },
  {
   "cell_type": "code",
   "execution_count": 26,
   "id": "7cab2a0f",
   "metadata": {},
   "outputs": [
    {
     "name": "stderr",
     "output_type": "stream",
     "text": [
      "C:\\Users\\Admin2\\AppData\\Local\\Temp\\ipykernel_8792\\13081262.py:1: UserWarning: Could not infer format, so each element will be parsed individually, falling back to `dateutil`. To ensure parsing is consistent and as-expected, please specify a format.\n",
      "  df[\"Order Date\"] = pd.to_datetime(df[\"Order Date\"])\n"
     ]
    }
   ],
   "source": [
    "df[\"Order Date\"] = pd.to_datetime(df[\"Order Date\"])"
   ]
  },
  {
   "cell_type": "code",
   "execution_count": 27,
   "id": "60693deb",
   "metadata": {},
   "outputs": [],
   "source": [
    "df[\"Year\"] = df[\"Order Date\"].dt.year\n"
   ]
  },
  {
   "cell_type": "code",
   "execution_count": 28,
   "id": "339044f8",
   "metadata": {},
   "outputs": [],
   "source": [
    "df[\"Month Name\"] = df[\"Order Date\"].dt.month_name()\n"
   ]
  },
  {
   "cell_type": "code",
   "execution_count": 29,
   "id": "2f97fdb5",
   "metadata": {},
   "outputs": [
    {
     "data": {
      "text/html": [
       "<div>\n",
       "<style scoped>\n",
       "    .dataframe tbody tr th:only-of-type {\n",
       "        vertical-align: middle;\n",
       "    }\n",
       "\n",
       "    .dataframe tbody tr th {\n",
       "        vertical-align: top;\n",
       "    }\n",
       "\n",
       "    .dataframe thead th {\n",
       "        text-align: right;\n",
       "    }\n",
       "</style>\n",
       "<table border=\"1\" class=\"dataframe\">\n",
       "  <thead>\n",
       "    <tr style=\"text-align: right;\">\n",
       "      <th></th>\n",
       "      <th>Order ID</th>\n",
       "      <th>Product</th>\n",
       "      <th>Quantity Ordered</th>\n",
       "      <th>Price Each</th>\n",
       "      <th>Order Date</th>\n",
       "      <th>Purchase Address</th>\n",
       "      <th>Purchase Amount</th>\n",
       "      <th>Year</th>\n",
       "      <th>Month Name</th>\n",
       "    </tr>\n",
       "  </thead>\n",
       "  <tbody>\n",
       "    <tr>\n",
       "      <th>0</th>\n",
       "      <td>294049</td>\n",
       "      <td>Lightning Charging Cable</td>\n",
       "      <td>1</td>\n",
       "      <td>14.95</td>\n",
       "      <td>2019-12-22 19:16:00</td>\n",
       "      <td>939 Odomankuma St, Kumasi, AS 40001</td>\n",
       "      <td>14.95</td>\n",
       "      <td>2019</td>\n",
       "      <td>December</td>\n",
       "    </tr>\n",
       "    <tr>\n",
       "      <th>1</th>\n",
       "      <td>294050</td>\n",
       "      <td>Wired Headphones</td>\n",
       "      <td>1</td>\n",
       "      <td>11.99</td>\n",
       "      <td>2019-12-30 18:15:00</td>\n",
       "      <td>116 Kwaku Boateng St, Sunyani, BA 10001</td>\n",
       "      <td>11.99</td>\n",
       "      <td>2019</td>\n",
       "      <td>December</td>\n",
       "    </tr>\n",
       "    <tr>\n",
       "      <th>2</th>\n",
       "      <td>294051</td>\n",
       "      <td>USB-C Charging Cable</td>\n",
       "      <td>2</td>\n",
       "      <td>11.95</td>\n",
       "      <td>2019-12-25 16:17:00</td>\n",
       "      <td>924 1st St, Kumasi, AS 40001</td>\n",
       "      <td>23.90</td>\n",
       "      <td>2019</td>\n",
       "      <td>December</td>\n",
       "    </tr>\n",
       "    <tr>\n",
       "      <th>3</th>\n",
       "      <td>294052</td>\n",
       "      <td>Wired Headphones</td>\n",
       "      <td>1</td>\n",
       "      <td>11.99</td>\n",
       "      <td>2019-12-24 13:15:00</td>\n",
       "      <td>148 12th St, Wa, UE 48101</td>\n",
       "      <td>11.99</td>\n",
       "      <td>2019</td>\n",
       "      <td>December</td>\n",
       "    </tr>\n",
       "    <tr>\n",
       "      <th>4</th>\n",
       "      <td>294053</td>\n",
       "      <td>27in FHD Monitor</td>\n",
       "      <td>1</td>\n",
       "      <td>149.99</td>\n",
       "      <td>2019-12-06 21:21:00</td>\n",
       "      <td>172 Nii Armah St, Ho, VR 90001</td>\n",
       "      <td>149.99</td>\n",
       "      <td>2019</td>\n",
       "      <td>December</td>\n",
       "    </tr>\n",
       "    <tr>\n",
       "      <th>...</th>\n",
       "      <td>...</td>\n",
       "      <td>...</td>\n",
       "      <td>...</td>\n",
       "      <td>...</td>\n",
       "      <td>...</td>\n",
       "      <td>...</td>\n",
       "      <td>...</td>\n",
       "      <td>...</td>\n",
       "      <td>...</td>\n",
       "    </tr>\n",
       "    <tr>\n",
       "      <th>185558</th>\n",
       "      <td>216589</td>\n",
       "      <td>Bose SoundSport Headphones</td>\n",
       "      <td>1</td>\n",
       "      <td>99.99</td>\n",
       "      <td>2019-06-20 21:25:00</td>\n",
       "      <td>849 Yorm St, Ho, VR 90001</td>\n",
       "      <td>99.99</td>\n",
       "      <td>2019</td>\n",
       "      <td>June</td>\n",
       "    </tr>\n",
       "    <tr>\n",
       "      <th>185559</th>\n",
       "      <td>216590</td>\n",
       "      <td>Wired Headphones</td>\n",
       "      <td>1</td>\n",
       "      <td>11.99</td>\n",
       "      <td>2019-06-27 05:42:00</td>\n",
       "      <td>741 Otu Blohum St, Sunyani, BA 10001</td>\n",
       "      <td>11.99</td>\n",
       "      <td>2019</td>\n",
       "      <td>June</td>\n",
       "    </tr>\n",
       "    <tr>\n",
       "      <th>185560</th>\n",
       "      <td>216591</td>\n",
       "      <td>Lightning Charging Cable</td>\n",
       "      <td>1</td>\n",
       "      <td>14.95</td>\n",
       "      <td>2019-06-10 18:22:00</td>\n",
       "      <td>110 8th St, Cape Coast, CR 85001</td>\n",
       "      <td>14.95</td>\n",
       "      <td>2019</td>\n",
       "      <td>June</td>\n",
       "    </tr>\n",
       "    <tr>\n",
       "      <th>185561</th>\n",
       "      <td>216592</td>\n",
       "      <td>AA Batteries (4-pack)</td>\n",
       "      <td>1</td>\n",
       "      <td>3.84</td>\n",
       "      <td>2019-06-30 12:11:00</td>\n",
       "      <td>756 Balagu St, Ho, VR 90001</td>\n",
       "      <td>3.84</td>\n",
       "      <td>2019</td>\n",
       "      <td>June</td>\n",
       "    </tr>\n",
       "    <tr>\n",
       "      <th>185562</th>\n",
       "      <td>216593</td>\n",
       "      <td>Bose SoundSport Headphones</td>\n",
       "      <td>1</td>\n",
       "      <td>99.99</td>\n",
       "      <td>2019-06-28 19:23:00</td>\n",
       "      <td>451 4th St, Ho, VR 90001</td>\n",
       "      <td>99.99</td>\n",
       "      <td>2019</td>\n",
       "      <td>June</td>\n",
       "    </tr>\n",
       "  </tbody>\n",
       "</table>\n",
       "<p>184732 rows × 9 columns</p>\n",
       "</div>"
      ],
      "text/plain": [
       "       Order ID                     Product  Quantity Ordered  Price Each  \\\n",
       "0        294049    Lightning Charging Cable                 1       14.95   \n",
       "1        294050            Wired Headphones                 1       11.99   \n",
       "2        294051        USB-C Charging Cable                 2       11.95   \n",
       "3        294052            Wired Headphones                 1       11.99   \n",
       "4        294053            27in FHD Monitor                 1      149.99   \n",
       "...         ...                         ...               ...         ...   \n",
       "185558   216589  Bose SoundSport Headphones                 1       99.99   \n",
       "185559   216590            Wired Headphones                 1       11.99   \n",
       "185560   216591    Lightning Charging Cable                 1       14.95   \n",
       "185561   216592       AA Batteries (4-pack)                 1        3.84   \n",
       "185562   216593  Bose SoundSport Headphones                 1       99.99   \n",
       "\n",
       "                Order Date                         Purchase Address  \\\n",
       "0      2019-12-22 19:16:00      939 Odomankuma St, Kumasi, AS 40001   \n",
       "1      2019-12-30 18:15:00  116 Kwaku Boateng St, Sunyani, BA 10001   \n",
       "2      2019-12-25 16:17:00             924 1st St, Kumasi, AS 40001   \n",
       "3      2019-12-24 13:15:00                148 12th St, Wa, UE 48101   \n",
       "4      2019-12-06 21:21:00           172 Nii Armah St, Ho, VR 90001   \n",
       "...                    ...                                      ...   \n",
       "185558 2019-06-20 21:25:00                849 Yorm St, Ho, VR 90001   \n",
       "185559 2019-06-27 05:42:00     741 Otu Blohum St, Sunyani, BA 10001   \n",
       "185560 2019-06-10 18:22:00         110 8th St, Cape Coast, CR 85001   \n",
       "185561 2019-06-30 12:11:00              756 Balagu St, Ho, VR 90001   \n",
       "185562 2019-06-28 19:23:00                 451 4th St, Ho, VR 90001   \n",
       "\n",
       "        Purchase Amount  Year Month Name  \n",
       "0                 14.95  2019   December  \n",
       "1                 11.99  2019   December  \n",
       "2                 23.90  2019   December  \n",
       "3                 11.99  2019   December  \n",
       "4                149.99  2019   December  \n",
       "...                 ...   ...        ...  \n",
       "185558            99.99  2019       June  \n",
       "185559            11.99  2019       June  \n",
       "185560            14.95  2019       June  \n",
       "185561             3.84  2019       June  \n",
       "185562            99.99  2019       June  \n",
       "\n",
       "[184732 rows x 9 columns]"
      ]
     },
     "execution_count": 29,
     "metadata": {},
     "output_type": "execute_result"
    }
   ],
   "source": [
    "df"
   ]
  },
  {
   "cell_type": "code",
   "execution_count": null,
   "id": "4b841ba8",
   "metadata": {},
   "outputs": [],
   "source": []
  },
  {
   "cell_type": "code",
   "execution_count": null,
   "id": "ea6498df",
   "metadata": {},
   "outputs": [],
   "source": []
  },
  {
   "cell_type": "code",
   "execution_count": null,
   "id": "8ffa8c8f",
   "metadata": {},
   "outputs": [],
   "source": []
  },
  {
   "cell_type": "code",
   "execution_count": 30,
   "id": "92938340",
   "metadata": {},
   "outputs": [
    {
     "name": "stdout",
     "output_type": "stream",
     "text": [
      "<class 'pandas.core.frame.DataFrame'>\n",
      "RangeIndex: 185563 entries, 0 to 185562\n",
      "Data columns (total 6 columns):\n",
      " #   Column            Non-Null Count   Dtype \n",
      "---  ------            --------------   ----- \n",
      " 0   Order ID          185078 non-null  object\n",
      " 1   Product           185078 non-null  object\n",
      " 2   Quantity Ordered  185078 non-null  object\n",
      " 3   Price Each        185078 non-null  object\n",
      " 4   Order Date        185078 non-null  object\n",
      " 5   Purchase Address  185078 non-null  object\n",
      "dtypes: object(6)\n",
      "memory usage: 8.5+ MB\n",
      "rows:185563  columns:6\n",
      "<class 'pandas.core.frame.DataFrame'>\n",
      "Index: 185078 entries, 0 to 185562\n",
      "Data columns (total 6 columns):\n",
      " #   Column            Non-Null Count   Dtype \n",
      "---  ------            --------------   ----- \n",
      " 0   Order ID          185078 non-null  object\n",
      " 1   Product           185078 non-null  object\n",
      " 2   Quantity Ordered  185078 non-null  object\n",
      " 3   Price Each        185078 non-null  object\n",
      " 4   Order Date        185078 non-null  object\n",
      " 5   Purchase Address  185078 non-null  object\n",
      "dtypes: object(6)\n",
      "memory usage: 9.9+ MB\n"
     ]
    },
    {
     "ename": "ValueError",
     "evalue": "Unable to parse string \"Quantity Ordered\" at position 434",
     "output_type": "error",
     "traceback": [
      "\u001b[1;31m---------------------------------------------------------------------------\u001b[0m",
      "\u001b[1;31mValueError\u001b[0m                                Traceback (most recent call last)",
      "File \u001b[1;32mC:\\ProgramData\\anaconda3\\Lib\\site-packages\\pandas\\_libs\\lib.pyx:2280\u001b[0m, in \u001b[0;36mpandas._libs.lib.maybe_convert_numeric\u001b[1;34m()\u001b[0m\n",
      "\u001b[1;31mValueError\u001b[0m: Unable to parse string \"Quantity Ordered\"",
      "\nDuring handling of the above exception, another exception occurred:\n",
      "\u001b[1;31mValueError\u001b[0m                                Traceback (most recent call last)",
      "Cell \u001b[1;32mIn[30], line 26\u001b[0m\n\u001b[0;32m     21\u001b[0m df\u001b[38;5;241m.\u001b[39minfo()\n\u001b[0;32m     25\u001b[0m \u001b[38;5;66;03m# the numeric column quantity ordered contains a value which is a string of alphabets \u001b[39;00m\n\u001b[1;32m---> 26\u001b[0m df[\u001b[38;5;124m\"\u001b[39m\u001b[38;5;124mQuantity Ordered\u001b[39m\u001b[38;5;124m\"\u001b[39m] \u001b[38;5;241m=\u001b[39m pd\u001b[38;5;241m.\u001b[39mto_numeric(df[\u001b[38;5;124m\"\u001b[39m\u001b[38;5;124mQuantity Ordered\u001b[39m\u001b[38;5;124m\"\u001b[39m])\n\u001b[0;32m     28\u001b[0m df[\u001b[38;5;124m\"\u001b[39m\u001b[38;5;124mQuantity Ordered\u001b[39m\u001b[38;5;124m\"\u001b[39m]\u001b[38;5;241m.\u001b[39munique()\n\u001b[0;32m     30\u001b[0m df \u001b[38;5;241m=\u001b[39m df[df[\u001b[38;5;124m\"\u001b[39m\u001b[38;5;124mQuantity Ordered\u001b[39m\u001b[38;5;124m\"\u001b[39m] \u001b[38;5;241m!=\u001b[39m \u001b[38;5;124m\"\u001b[39m\u001b[38;5;124mQuantity Ordered\u001b[39m\u001b[38;5;124m\"\u001b[39m]\n",
      "File \u001b[1;32mC:\\ProgramData\\anaconda3\\Lib\\site-packages\\pandas\\core\\tools\\numeric.py:217\u001b[0m, in \u001b[0;36mto_numeric\u001b[1;34m(arg, errors, downcast, dtype_backend)\u001b[0m\n\u001b[0;32m    215\u001b[0m coerce_numeric \u001b[38;5;241m=\u001b[39m errors \u001b[38;5;129;01mnot\u001b[39;00m \u001b[38;5;129;01min\u001b[39;00m (\u001b[38;5;124m\"\u001b[39m\u001b[38;5;124mignore\u001b[39m\u001b[38;5;124m\"\u001b[39m, \u001b[38;5;124m\"\u001b[39m\u001b[38;5;124mraise\u001b[39m\u001b[38;5;124m\"\u001b[39m)\n\u001b[0;32m    216\u001b[0m \u001b[38;5;28;01mtry\u001b[39;00m:\n\u001b[1;32m--> 217\u001b[0m     values, new_mask \u001b[38;5;241m=\u001b[39m lib\u001b[38;5;241m.\u001b[39mmaybe_convert_numeric(  \u001b[38;5;66;03m# type: ignore[call-overload]  # noqa\u001b[39;00m\n\u001b[0;32m    218\u001b[0m         values,\n\u001b[0;32m    219\u001b[0m         \u001b[38;5;28mset\u001b[39m(),\n\u001b[0;32m    220\u001b[0m         coerce_numeric\u001b[38;5;241m=\u001b[39mcoerce_numeric,\n\u001b[0;32m    221\u001b[0m         convert_to_masked_nullable\u001b[38;5;241m=\u001b[39mdtype_backend \u001b[38;5;129;01mis\u001b[39;00m \u001b[38;5;129;01mnot\u001b[39;00m lib\u001b[38;5;241m.\u001b[39mno_default\n\u001b[0;32m    222\u001b[0m         \u001b[38;5;129;01mor\u001b[39;00m \u001b[38;5;28misinstance\u001b[39m(values_dtype, StringDtype),\n\u001b[0;32m    223\u001b[0m     )\n\u001b[0;32m    224\u001b[0m \u001b[38;5;28;01mexcept\u001b[39;00m (\u001b[38;5;167;01mValueError\u001b[39;00m, \u001b[38;5;167;01mTypeError\u001b[39;00m):\n\u001b[0;32m    225\u001b[0m     \u001b[38;5;28;01mif\u001b[39;00m errors \u001b[38;5;241m==\u001b[39m \u001b[38;5;124m\"\u001b[39m\u001b[38;5;124mraise\u001b[39m\u001b[38;5;124m\"\u001b[39m:\n",
      "File \u001b[1;32mC:\\ProgramData\\anaconda3\\Lib\\site-packages\\pandas\\_libs\\lib.pyx:2322\u001b[0m, in \u001b[0;36mpandas._libs.lib.maybe_convert_numeric\u001b[1;34m()\u001b[0m\n",
      "\u001b[1;31mValueError\u001b[0m: Unable to parse string \"Quantity Ordered\" at position 434"
     ]
    }
   ],
   "source": [
    "import pandas as pd\n",
    "\n",
    "\n",
    "df = pd.read_csv(\"sales_data.csv\")\n",
    "\n",
    "df.head()\n",
    "\n",
    "df.info()\n",
    "\n",
    "rows, columns = df.shape\n",
    "print(f\"rows:{rows}  columns:{columns}\")\n",
    "\n",
    "df.describe()\n",
    "\n",
    "# number of nulls\n",
    "df.isnull().sum()\n",
    "\n",
    "# drop null values\n",
    "df.dropna(how = \"all\", inplace=True)\n",
    "\n",
    "df.info()\n",
    "\n",
    "\n",
    "\n",
    "# the numeric column quantity ordered contains a value which is a string of alphabets \n",
    "df[\"Quantity Ordered\"] = pd.to_numeric(df[\"Quantity Ordered\"])\n",
    "\n",
    "df[\"Quantity Ordered\"].unique()\n",
    "\n",
    "df = df[df[\"Quantity Ordered\"] != \"Quantity Ordered\"]\n",
    "\n",
    "df[\"Quantity Ordered\"].unique()\n",
    "\n",
    "df[\"Quantity Ordered\"] = pd.to_numeric(df[\"Quantity Ordered\"])\n",
    "\n",
    "df.info()\n",
    "\n",
    "df.describe()\n",
    "\n",
    "df[\"Quantity Ordered\"].mean()\n",
    "\n",
    "df[\"Quantity Ordered\"].min()\n",
    "\n",
    "df[\"Quantity Ordered\"].max()\n",
    "\n",
    "df[\"Quantity Ordered\"].std()\n",
    "\n",
    "df[\"Quantity Ordered\"].count()\n",
    "\n",
    "df[\"Price Each\"] = pd.to_numeric(df[\"Price Each\"])\n",
    "\n",
    "df[\"Purchase Amount\"] = df[\"Quantity Ordered\"] * df[\"Price Each\"] \n",
    "\n",
    "df[\"Order Date\"] = pd.to_datetime(df[\"Order Date\"])\n",
    "\n",
    "df[\"Year\"] = df[\"Order Date\"].dt.year\n",
    "\n",
    "\n",
    "df[\"Month Name\"] = df[\"Order Date\"].dt.month_name()\n",
    "\n",
    "\n",
    "\n",
    "\n",
    "\n",
    "\n",
    "\n",
    "\n",
    "\n"
   ]
  },
  {
   "cell_type": "code",
   "execution_count": null,
   "id": "e3c0d2de",
   "metadata": {},
   "outputs": [],
   "source": [
    "df"
   ]
  },
  {
   "cell_type": "code",
   "execution_count": null,
   "id": "526959be",
   "metadata": {},
   "outputs": [],
   "source": []
  },
  {
   "cell_type": "code",
   "execution_count": null,
   "id": "778f1b1c",
   "metadata": {},
   "outputs": [],
   "source": []
  },
  {
   "cell_type": "code",
   "execution_count": null,
   "id": "fdffa031",
   "metadata": {},
   "outputs": [],
   "source": []
  },
  {
   "cell_type": "code",
   "execution_count": null,
   "id": "c06536fc",
   "metadata": {},
   "outputs": [],
   "source": []
  },
  {
   "cell_type": "code",
   "execution_count": null,
   "id": "344dc05f",
   "metadata": {},
   "outputs": [],
   "source": []
  },
  {
   "cell_type": "code",
   "execution_count": null,
   "id": "30780824",
   "metadata": {},
   "outputs": [],
   "source": []
  },
  {
   "cell_type": "code",
   "execution_count": null,
   "id": "a1d2b85e",
   "metadata": {},
   "outputs": [],
   "source": []
  },
  {
   "cell_type": "code",
   "execution_count": null,
   "id": "6257568c",
   "metadata": {},
   "outputs": [],
   "source": []
  },
  {
   "cell_type": "code",
   "execution_count": null,
   "id": "9da3f70d",
   "metadata": {},
   "outputs": [],
   "source": []
  },
  {
   "cell_type": "code",
   "execution_count": null,
   "id": "48ad7772",
   "metadata": {},
   "outputs": [],
   "source": []
  },
  {
   "cell_type": "code",
   "execution_count": null,
   "id": "4085371b",
   "metadata": {},
   "outputs": [],
   "source": []
  },
  {
   "cell_type": "code",
   "execution_count": null,
   "id": "38e8b13d",
   "metadata": {},
   "outputs": [],
   "source": []
  },
  {
   "cell_type": "code",
   "execution_count": null,
   "id": "35e04627",
   "metadata": {},
   "outputs": [],
   "source": []
  },
  {
   "cell_type": "code",
   "execution_count": null,
   "id": "39ba890a",
   "metadata": {},
   "outputs": [],
   "source": []
  },
  {
   "cell_type": "code",
   "execution_count": null,
   "id": "ce58ecdc",
   "metadata": {},
   "outputs": [],
   "source": []
  },
  {
   "cell_type": "code",
   "execution_count": null,
   "id": "6e56765d",
   "metadata": {},
   "outputs": [],
   "source": []
  },
  {
   "cell_type": "code",
   "execution_count": null,
   "id": "0c6335c6",
   "metadata": {},
   "outputs": [],
   "source": []
  },
  {
   "cell_type": "code",
   "execution_count": null,
   "id": "18f5010e",
   "metadata": {},
   "outputs": [],
   "source": []
  },
  {
   "cell_type": "code",
   "execution_count": null,
   "id": "b4a961be",
   "metadata": {},
   "outputs": [],
   "source": []
  },
  {
   "cell_type": "code",
   "execution_count": null,
   "id": "a97c271b",
   "metadata": {},
   "outputs": [],
   "source": []
  },
  {
   "cell_type": "code",
   "execution_count": null,
   "id": "4a1f7a68",
   "metadata": {},
   "outputs": [],
   "source": []
  },
  {
   "cell_type": "code",
   "execution_count": null,
   "id": "49ee290f",
   "metadata": {},
   "outputs": [],
   "source": []
  },
  {
   "cell_type": "code",
   "execution_count": null,
   "id": "0ec0aea5",
   "metadata": {},
   "outputs": [],
   "source": []
  },
  {
   "cell_type": "code",
   "execution_count": null,
   "id": "3c329782",
   "metadata": {},
   "outputs": [],
   "source": []
  },
  {
   "cell_type": "code",
   "execution_count": null,
   "id": "848db24d",
   "metadata": {},
   "outputs": [],
   "source": []
  },
  {
   "cell_type": "code",
   "execution_count": null,
   "id": "16fee3bc",
   "metadata": {},
   "outputs": [],
   "source": []
  },
  {
   "cell_type": "code",
   "execution_count": null,
   "id": "9ce13b17",
   "metadata": {},
   "outputs": [],
   "source": []
  },
  {
   "cell_type": "code",
   "execution_count": null,
   "id": "daa01b04",
   "metadata": {},
   "outputs": [],
   "source": []
  },
  {
   "cell_type": "code",
   "execution_count": null,
   "id": "0052b4cd",
   "metadata": {},
   "outputs": [],
   "source": []
  },
  {
   "cell_type": "code",
   "execution_count": null,
   "id": "54b1a873",
   "metadata": {},
   "outputs": [],
   "source": []
  },
  {
   "cell_type": "code",
   "execution_count": null,
   "id": "14d3a468",
   "metadata": {},
   "outputs": [],
   "source": []
  },
  {
   "cell_type": "code",
   "execution_count": null,
   "id": "07fd7ee2",
   "metadata": {},
   "outputs": [],
   "source": []
  },
  {
   "cell_type": "code",
   "execution_count": null,
   "id": "f4d98294",
   "metadata": {},
   "outputs": [],
   "source": []
  },
  {
   "cell_type": "code",
   "execution_count": null,
   "id": "401d4c67",
   "metadata": {},
   "outputs": [],
   "source": []
  },
  {
   "cell_type": "code",
   "execution_count": null,
   "id": "8e4446ac",
   "metadata": {},
   "outputs": [],
   "source": []
  },
  {
   "cell_type": "code",
   "execution_count": null,
   "id": "9e8362f0",
   "metadata": {},
   "outputs": [],
   "source": []
  },
  {
   "cell_type": "code",
   "execution_count": null,
   "id": "b8d50d6e",
   "metadata": {},
   "outputs": [],
   "source": []
  },
  {
   "cell_type": "code",
   "execution_count": null,
   "id": "d77c25db",
   "metadata": {},
   "outputs": [],
   "source": []
  },
  {
   "cell_type": "code",
   "execution_count": null,
   "id": "2957ca41",
   "metadata": {},
   "outputs": [],
   "source": []
  },
  {
   "cell_type": "code",
   "execution_count": null,
   "id": "f1d94f45",
   "metadata": {},
   "outputs": [],
   "source": []
  },
  {
   "cell_type": "code",
   "execution_count": null,
   "id": "8e22e1c5",
   "metadata": {},
   "outputs": [],
   "source": []
  },
  {
   "cell_type": "code",
   "execution_count": null,
   "id": "72f69c66",
   "metadata": {},
   "outputs": [],
   "source": []
  }
 ],
 "metadata": {
  "kernelspec": {
   "display_name": "Python 3 (ipykernel)",
   "language": "python",
   "name": "python3"
  },
  "language_info": {
   "codemirror_mode": {
    "name": "ipython",
    "version": 3
   },
   "file_extension": ".py",
   "mimetype": "text/x-python",
   "name": "python",
   "nbconvert_exporter": "python",
   "pygments_lexer": "ipython3",
   "version": "3.11.5"
  }
 },
 "nbformat": 4,
 "nbformat_minor": 5
}
